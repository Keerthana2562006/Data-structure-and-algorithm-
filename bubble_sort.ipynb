{
 "cells": [
  {
   "cell_type": "code",
   "execution_count": 25,
   "id": "7b8f554e-215e-4ac5-ab37-02fb133e8ca5",
   "metadata": {},
   "outputs": [
    {
     "name": "stdin",
     "output_type": "stream",
     "text": [
      "Enter number of element:  7\n",
      "Enter the element: 4\n",
      "Enter the element: 9\n",
      "Enter the element: 1\n",
      "Enter the element: 5\n",
      "Enter the element: 7\n",
      "Enter the element: 3\n",
      "Enter the element: 32\n"
     ]
    },
    {
     "name": "stdout",
     "output_type": "stream",
     "text": [
      "The sorted element are : \n",
      "1 3 4 5 7 9 32 "
     ]
    }
   ],
   "source": [
    "def bubble_sort(list):\n",
    "    size=len(list)\n",
    "    for i in range(size-1):\n",
    "        for j in range(size-1):\n",
    "            if list[j]>list[j+1]:\n",
    "                temp=list[j]\n",
    "                list[j]=list[j+1]\n",
    "                list[j+1]=temp\n",
    "\n",
    "n=int(input(\"Enter number of element: \"))\n",
    "lst=[]\n",
    "for i in range(n):\n",
    "    num=int(input(\"Enter the element:\"))\n",
    "    lst.append(num)\n",
    "\n",
    "bubble_sort(lst)\n",
    "print(\"The sorted element are : \")\n",
    "for i in range(n):\n",
    "    print(lst[i],end=\" \")"
   ]
  },
  {
   "cell_type": "code",
   "execution_count": null,
   "id": "33db144f-7123-4eac-96cf-ebd5ec568bba",
   "metadata": {},
   "outputs": [],
   "source": []
  }
 ],
 "metadata": {
  "kernelspec": {
   "display_name": "Python 3 (ipykernel)",
   "language": "python",
   "name": "python3"
  },
  "language_info": {
   "codemirror_mode": {
    "name": "ipython",
    "version": 3
   },
   "file_extension": ".py",
   "mimetype": "text/x-python",
   "name": "python",
   "nbconvert_exporter": "python",
   "pygments_lexer": "ipython3",
   "version": "3.12.4"
  }
 },
 "nbformat": 4,
 "nbformat_minor": 5
}
