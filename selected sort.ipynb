{
 "cells": [
  {
   "cell_type": "code",
   "execution_count": 35,
   "id": "eb1b738d-d09c-4f64-b2fa-f1b087b07f9b",
   "metadata": {},
   "outputs": [
    {
     "name": "stdin",
     "output_type": "stream",
     "text": [
      "Enter number of element:  3\n",
      "Enter the element: 6\n",
      "Enter the element: 8\n",
      "Enter the element: 7\n"
     ]
    },
    {
     "name": "stdout",
     "output_type": "stream",
     "text": [
      "The sorted element are : \n",
      "6 8 7 "
     ]
    }
   ],
   "source": [
    "def selected_sort(list):\n",
    "    size=len(list)\n",
    "    for i in range(size-1):\n",
    "        min=list[i]\n",
    "        posn=1\n",
    "        for j in range(i+1,size):\n",
    "            min=list[j]\n",
    "            posn=j\n",
    "            if j!=posn:\n",
    "                temp=list[i]\n",
    "                list[i]=list[posn]\n",
    "                list[posn]=temp\n",
    "\n",
    "n=int(input(\"Enter number of element: \"))\n",
    "lst=[]\n",
    "for i in range(n):\n",
    "    num=int(input(\"Enter the element:\"))\n",
    "    lst.append(num)\n",
    "\n",
    "selected_sort(lst)\n",
    "print(\"The sorted element are : \")\n",
    "for i in range(n):\n",
    "    print(lst[i],end=\" \")"
   ]
  },
  {
   "cell_type": "code",
   "execution_count": null,
   "id": "31a2e7ae-bda6-4024-8a29-ae93b4556493",
   "metadata": {},
   "outputs": [],
   "source": []
  }
 ],
 "metadata": {
  "kernelspec": {
   "display_name": "Python 3 (ipykernel)",
   "language": "python",
   "name": "python3"
  },
  "language_info": {
   "codemirror_mode": {
    "name": "ipython",
    "version": 3
   },
   "file_extension": ".py",
   "mimetype": "text/x-python",
   "name": "python",
   "nbconvert_exporter": "python",
   "pygments_lexer": "ipython3",
   "version": "3.12.4"
  }
 },
 "nbformat": 4,
 "nbformat_minor": 5
}
