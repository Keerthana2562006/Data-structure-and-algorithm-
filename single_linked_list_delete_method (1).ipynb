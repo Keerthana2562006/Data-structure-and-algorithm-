{
  "nbformat": 4,
  "nbformat_minor": 0,
  "metadata": {
    "colab": {
      "provenance": []
    },
    "kernelspec": {
      "name": "python3",
      "display_name": "Python 3"
    },
    "language_info": {
      "name": "python"
    }
  },
  "cells": [
    {
      "cell_type": "code",
      "execution_count": 1,
      "metadata": {
        "colab": {
          "base_uri": "https://localhost:8080/"
        },
        "id": "bmOPazV7HFOZ",
        "outputId": "06bd3310-cc5c-4dc2-abb1-302ab10c2938"
      },
      "outputs": [
        {
          "output_type": "stream",
          "name": "stdout",
          "text": [
            "Original List:\n",
            "1 -> 2 -> 3 -> 4 -> None\n",
            "List After Deletion of 3:\n",
            "1 -> 2 -> 4 -> None\n",
            "Node with data 5 not found.\n"
          ]
        }
      ],
      "source": [
        "# Define a class for the Node\n",
        "class Node:\n",
        "    def __init__(self, data):\n",
        "        self.data = data  # data in the node\n",
        "        self.next = None  # pointer to the next node\n",
        "\n",
        "# Define a class for the LinkedList\n",
        "class LinkedList:\n",
        "    def __init__(self):\n",
        "        self.head = None  # initially, the list is empty\n",
        "\n",
        "    # Add a new node at the end\n",
        "    def append(self, data):\n",
        "        new_node = Node(data)\n",
        "        if not self.head:  # If the list is empty\n",
        "            self.head = new_node\n",
        "            return\n",
        "        last = self.head\n",
        "        while last.next:  # Traverse to the last node\n",
        "            last = last.next\n",
        "        last.next = new_node  # Update the next of the last node to the new node\n",
        "\n",
        "    # Delete a node by value\n",
        "    def delete(self, key):\n",
        "        # If the list is empty\n",
        "        if not self.head:\n",
        "            print(\"List is empty\")\n",
        "            return\n",
        "\n",
        "        # If the head node itself holds the key to be deleted\n",
        "        if self.head.data == key:\n",
        "            self.head = self.head.next\n",
        "            return\n",
        "\n",
        "        # Search for the key to be deleted\n",
        "        current = self.head\n",
        "        while current.next:\n",
        "            if current.next.data == key:\n",
        "                current.next = current.next.next\n",
        "                return\n",
        "            current = current.next\n",
        "\n",
        "        print(f\"Node with data {key} not found.\")\n",
        "\n",
        "    # Print the linked list\n",
        "    def print_list(self):\n",
        "        temp = self.head\n",
        "        while temp:  # Traverse through the list\n",
        "            print(temp.data, end=\" -> \")\n",
        "            temp = temp.next\n",
        "        print(\"None\")\n",
        "\n",
        "# Create a LinkedList and perform operations\n",
        "linked_list = LinkedList()\n",
        "linked_list.append(1)\n",
        "linked_list.append(2)\n",
        "linked_list.append(3)\n",
        "linked_list.append(4)\n",
        "\n",
        "# Print the linked list before deletion\n",
        "print(\"Original List:\")\n",
        "linked_list.print_list()\n",
        "\n",
        "# Delete a node (e.g., node with value 3)\n",
        "linked_list.delete(3)\n",
        "\n",
        "# Print the linked list after deletion\n",
        "print(\"List After Deletion of 3:\")\n",
        "linked_list.print_list()\n",
        "\n",
        "# Attempting to delete a node that doesn't exist\n",
        "linked_list.delete(5)\n"
      ]
    }
  ]
}