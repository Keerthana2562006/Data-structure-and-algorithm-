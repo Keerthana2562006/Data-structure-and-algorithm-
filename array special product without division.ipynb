{
 "cells": [
  {
   "cell_type": "code",
   "execution_count": null,
   "id": "5788f2be-5cdc-4ead-931e-dbeb77716989",
   "metadata": {},
   "outputs": [],
   "source": [
    "import numpy as np\n",
    "x=np.array([1,2,3,4,5])\n",
    "def prod_ExceptSel(x):\n",
    "    n=len(x)\n",
    "    res=[1]*n\n",
    "    for i in range (n):\n",
    "        for j in range (n):\n",
    "            if i !=j:\n",
    "                res[i]*=x[j]\n",
    "    return res\n",
    "print(\"original array:\",x)\n",
    "result=prod_Exc"
   ]
  }
 ],
 "metadata": {
  "kernelspec": {
   "display_name": "Python 3 (ipykernel)",
   "language": "python",
   "name": "python3"
  },
  "language_info": {
   "codemirror_mode": {
    "name": "ipython",
    "version": 3
   },
   "file_extension": ".py",
   "mimetype": "text/x-python",
   "name": "python",
   "nbconvert_exporter": "python",
   "pygments_lexer": "ipython3",
   "version": "3.12.4"
  }
 },
 "nbformat": 4,
 "nbformat_minor": 5
}
