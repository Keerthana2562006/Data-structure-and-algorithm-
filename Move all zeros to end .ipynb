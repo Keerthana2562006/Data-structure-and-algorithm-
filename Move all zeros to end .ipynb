{
 "cells": [
  {
   "cell_type": "code",
   "execution_count": 34,
   "id": "75633d35-abf4-4c6e-aaa9-3d83f40fa86c",
   "metadata": {},
   "outputs": [
    {
     "ename": "IndentationError",
     "evalue": "unindent does not match any outer indentation level (<string>, line 11)",
     "output_type": "error",
     "traceback": [
      "\u001b[1;36m  File \u001b[1;32m<string>:11\u001b[1;36m\u001b[0m\n\u001b[1;33m    result=([1]*Store_1)+([0]*Count_0)\u001b[0m\n\u001b[1;37m                                      ^\u001b[0m\n\u001b[1;31mIndentationError\u001b[0m\u001b[1;31m:\u001b[0m unindent does not match any outer indentation level\n"
     ]
    }
   ],
   "source": [
    "import numpy as np\n",
    "x=np.array([0,1,0,1,0,1,1,1])\n",
    "def Move_Zero_end(x):\n",
    "   Count_0 = 0\n",
    "   Store_1 = 0\n",
    "   for i in x:\n",
    "     if i == 1:\n",
    "        Store_1+=1\n",
    "     else:\n",
    "        Count_0+=1\n",
    "    result=([1]*Store_1)+([0]*Count_0)\n",
    "    return result\n",
    "print(\"output:\",Move_Zero_end(x))"
   ]
  },
  {
   "cell_type": "code",
   "execution_count": null,
   "id": "afc4df16-5228-47ba-a094-5f35210967f6",
   "metadata": {},
   "outputs": [],
   "source": [
    "+"
   ]
  }
 ],
 "metadata": {
  "kernelspec": {
   "display_name": "Python 3 (ipykernel)",
   "language": "python",
   "name": "python3"
  },
  "language_info": {
   "codemirror_mode": {
    "name": "ipython",
    "version": 3
   },
   "file_extension": ".py",
   "mimetype": "text/x-python",
   "name": "python",
   "nbconvert_exporter": "python",
   "pygments_lexer": "ipython3",
   "version": "3.12.4"
  }
 },
 "nbformat": 4,
 "nbformat_minor": 5
}
